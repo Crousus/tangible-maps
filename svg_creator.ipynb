{
 "cells": [
  {
   "cell_type": "code",
   "execution_count": 5,
   "id": "initial_id",
   "metadata": {
    "collapsed": true,
    "ExecuteTime": {
     "end_time": "2023-11-28T12:59:21.662932200Z",
     "start_time": "2023-11-28T12:59:21.565603500Z"
    }
   },
   "outputs": [],
   "source": [
    "import osmium as o\n",
    "import svgwrite\n",
    "\n",
    "class OSMHandler(o.SimpleHandler):\n",
    "    def __init__(self, dwg):\n",
    "        super(OSMHandler, self).__init__()\n",
    "        self.dwg = dwg\n",
    "\n",
    "    def way(self, w):\n",
    "        if 'highway' in w.tags:  # Filter for streets\n",
    "            line = []\n",
    "            for node in w.nodes:\n",
    "                if node.location.valid():\n",
    "                    line.append((node.location.lon, node.location.lat))\n",
    "            if line:\n",
    "                self.dwg.add(self.dwg.line(line, stroke='white'))\n",
    "\n",
    "def main(osm_file, svg_file):\n",
    "    # Create an SVG drawing\n",
    "    dwg = svgwrite.Drawing(svg_file, profile='tiny')\n",
    "    #.add(dwg.rect(insert=(0, 0), size=('100%', '100%'), rx=None, ry=None, fill='rgb(128,128,128)'))\n",
    "\n",
    "    # Create an instance of the OSM handler\n",
    "    handler = OSMHandler(dwg)\n",
    "\n",
    "    # Apply the handler to the OSM file\n",
    "    handler.apply_file(osm_file)\n",
    "\n",
    "    # Save the SVG file\n",
    "    dwg.save()\n",
    "\n",
    "if __name__ == \"__main__\":\n",
    "    main(\"map.osm\", \"map.svg\")\n"
   ]
  },
  {
   "cell_type": "code",
   "execution_count": 4,
   "outputs": [
    {
     "name": "stderr",
     "output_type": "stream",
     "text": [
      "C:\\Users\\johan\\AppData\\Local\\Temp\\ipykernel_18052\\3207891558.py:7: UserWarning: The `utils.config` function is deprecated and will be removed in a future release. Instead, use the `settings` module directly to configure a global setting's value. For example, `ox.settings.log_console=True`.\n",
      "  ox.config(log_console=True, use_cache=True)\n"
     ]
    }
   ],
   "source": [
    "import osmnx as ox\n",
    "import matplotlib.pyplot as plt\n",
    "import matplotlib.colors as mcolors\n",
    "\n",
    "def create_svg_from_osm(place_name, svg_filename):\n",
    "    # Configure OSMnx to use the white-black color scheme and no background\n",
    "    ox.config(log_console=True, use_cache=True)\n",
    "    color = mcolors.to_rgba('black')\n",
    "    bgcolor = mcolors.to_rgba('white')\n",
    "\n",
    "    # Retrieve the street network for the specified place\n",
    "    #G = ox.graph_from_place(place_name, network_type='walk', simplify=True)\n",
    "    G = ox.graph_from_bbox(north=46.5000, east=9.8446, south=46.4872, west=9.8109, network_type='walk', simplify=True)\n",
    "\n",
    "    # Plot the street network and save as SVG\n",
    "    fig, ax = ox.plot_graph(G, bgcolor=bgcolor, edge_color=color, node_size=0, \n",
    "                            edge_linewidth=2, show=False, save=False)\n",
    "\n",
    "    # Save the figure as an SVG file\n",
    "    plt.savefig(svg_filename, format='svg', bbox_inches='tight', pad_inches=0)\n",
    "    plt.close(fig)\n",
    "\n",
    "# Example usage\n",
    "create_svg_from_osm(\"St. Moritz, Switzerland\", \"stmoritz.svg\")\n"
   ],
   "metadata": {
    "collapsed": false,
    "ExecuteTime": {
     "end_time": "2023-11-28T14:06:28.510519200Z",
     "start_time": "2023-11-28T14:06:26.771994500Z"
    }
   },
   "id": "f480ff24b9746f89"
  },
  {
   "cell_type": "code",
   "execution_count": 3,
   "outputs": [
    {
     "name": "stderr",
     "output_type": "stream",
     "text": [
      "C:\\Users\\johan\\AppData\\Local\\Temp\\ipykernel_18052\\3000327336.py:9: UserWarning: The `utils.config` function is deprecated and will be removed in a future release. Instead, use the `settings` module directly to configure a global setting's value. For example, `ox.settings.log_console=True`.\n",
      "  ox.config(log_console=True, use_cache=True)\n",
      "C:\\Users\\johan\\AppData\\Local\\Temp\\ipykernel_18052\\3000327336.py:18: UserWarning: Geometry is in a geographic CRS. Results from 'buffer' are likely incorrect. Use 'GeoSeries.to_crs()' to re-project geometries to a projected CRS before this operation.\n",
      "\n",
      "  buffered_edges = gdf_edges.geometry.buffer(buffer_distance)\n"
     ]
    }
   ],
   "source": [
    "import osmnx as ox\n",
    "import geopandas as gpd\n",
    "import matplotlib.pyplot as plt\n",
    "import matplotlib.colors as mcolors\n",
    "from shapely.geometry import LineString, MultiLineString\n",
    "\n",
    "def create_svg_for_lasercutting(place_name, svg_filename, buffer_distance):\n",
    "    # Configure OSMnx settings\n",
    "    ox.config(log_console=True, use_cache=True)\n",
    "\n",
    "    # Retrieve the street network for the specified place\n",
    "    G = ox.graph_from_bbox(north=46.5000, east=9.8446, south=46.4872, west=9.8109, network_type='walk', simplify=True)\n",
    "\n",
    "    # Convert the graph to a GeoDataFrame\n",
    "    gdf_edges = ox.graph_to_gdfs(G, nodes=False)\n",
    "\n",
    "    # Create a buffer around each edge (street)\n",
    "    buffered_edges = gdf_edges.geometry.buffer(buffer_distance)\n",
    "\n",
    "    # Combine buffered edges into a single geometry for plotting\n",
    "    buffered_area = gpd.GeoSeries(buffered_edges.unary_union)\n",
    "\n",
    "    # Plot the buffered area\n",
    "    fig, ax = plt.subplots()\n",
    "    buffered_area.plot(ax=ax, color='black')\n",
    "\n",
    "    # Set the background color and remove axis for clarity\n",
    "    ax.set_facecolor(mcolors.to_rgba('gray'))\n",
    "    ax.axis('off')\n",
    "\n",
    "    # Save the figure as an SVG file\n",
    "    plt.savefig(svg_filename, format='svg', bbox_inches='tight', pad_inches=0)\n",
    "    plt.close(fig)\n",
    "\n",
    "# Example usage with a small buffer distance\n",
    "create_svg_for_lasercutting(\"St. Moritz, Switzerland\", \"stmoritz_lasercut.svg\", buffer_distance=0.0001)\n"
   ],
   "metadata": {
    "collapsed": false,
    "ExecuteTime": {
     "end_time": "2023-11-28T13:56:35.447337Z",
     "start_time": "2023-11-28T13:56:32.956848100Z"
    }
   },
   "id": "4888ad144c7a21a8"
  },
  {
   "cell_type": "code",
   "execution_count": 9,
   "outputs": [
    {
     "name": "stderr",
     "output_type": "stream",
     "text": [
      "C:\\Users\\johan\\AppData\\Local\\Temp\\ipykernel_8696\\4000196401.py:10: UserWarning: The `utils.config` function is deprecated and will be removed in a future release. Instead, use the `settings` module directly to configure a global setting's value. For example, `ox.settings.log_console=True`.\n",
      "  ox.config(log_console=True, use_cache=True)\n"
     ]
    }
   ],
   "source": [
    "from svgpathtools import svg2paths, Path\n",
    "import osmnx as ox\n",
    "import matplotlib.pyplot as plt\n",
    "import matplotlib.colors as mcolors\n",
    "import cairosvg\n",
    "import svgwrite\n",
    "\n",
    "def create_svg_from_osm(place_name, svg_filename):\n",
    "    # Configure OSMnx to use the white-black color scheme and no background\n",
    "    ox.config(log_console=True, use_cache=True)\n",
    "    color = mcolors.to_rgba('black')\n",
    "    bgcolor = mcolors.to_rgba('white')\n",
    "\n",
    "    # Retrieve the street network for the specified place\n",
    "    G = ox.graph_from_place(place_name, network_type='walk', simplify=True)\n",
    "\n",
    "    # Plot the street network and save as SVG\n",
    "    fig, ax = ox.plot_graph(G, bgcolor=bgcolor, edge_color=color, node_size=0, \n",
    "                            edge_linewidth=2, show=False, save=False)\n",
    "\n",
    "    # Save the figure as an SVG file\n",
    "    plt.savefig(svg_filename, format='svg', bbox_inches='tight', pad_inches=0)\n",
    "    plt.close(fig)\n",
    "\n",
    "    # Convert the strokes in the SVG to paths using cairosvg\n",
    "    dwg = svgwrite.Drawing(svg_filename)\n",
    "    paths, attributes = svg2paths(svg_filename)\n",
    "    \n",
    "    # Create a new SVG with paths and save it\n",
    "    new_svg_filename = svg_filename.replace(\".svg\", \"_paths.svg\")\n",
    "    for i, path in enumerate(paths):\n",
    "        new_path = Path(path)\n",
    "        dwg.add(dwg.path(d=new_path.d(),fill=\"red\", stroke='black'))\n",
    "    \n",
    "    dwg.saveas(new_svg_filename)\n",
    "\n",
    "# Example usage\n",
    "create_svg_from_osm(\"St. Moritz, Switzerland\", \"stmoritz.svg\")"
   ],
   "metadata": {
    "collapsed": false,
    "ExecuteTime": {
     "end_time": "2023-12-01T15:45:00.462033400Z",
     "start_time": "2023-12-01T15:44:56.539354Z"
    }
   },
   "id": "43abd77c982999f4"
  },
  {
   "cell_type": "code",
   "execution_count": null,
   "outputs": [],
   "source": [
    "svg"
   ],
   "metadata": {
    "collapsed": false
   },
   "id": "6b136d5b766a2904"
  }
 ],
 "metadata": {
  "kernelspec": {
   "display_name": "Python 3",
   "language": "python",
   "name": "python3"
  },
  "language_info": {
   "codemirror_mode": {
    "name": "ipython",
    "version": 2
   },
   "file_extension": ".py",
   "mimetype": "text/x-python",
   "name": "python",
   "nbconvert_exporter": "python",
   "pygments_lexer": "ipython2",
   "version": "2.7.6"
  }
 },
 "nbformat": 4,
 "nbformat_minor": 5
}
